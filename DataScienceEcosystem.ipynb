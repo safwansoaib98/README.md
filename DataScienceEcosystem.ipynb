{
  "metadata": {
    "kernelspec": {
      "name": "python",
      "display_name": "Python (Pyodide)",
      "language": "python"
    },
    "language_info": {
      "codemirror_mode": {
        "name": "python",
        "version": 3
      },
      "file_extension": ".py",
      "mimetype": "text/x-python",
      "name": "python",
      "nbconvert_exporter": "python",
      "pygments_lexer": "ipython3",
      "version": "3.8"
    }
  },
  "nbformat_minor": 4,
  "nbformat": 4,
  "cells": [
    {
      "cell_type": "markdown",
      "source": "## Exercise 2\n\n# Data Science Tools and Ecosystem",
      "metadata": {}
    },
    {
      "cell_type": "markdown",
      "source": "## Exercise 3\n\nIn this notebook, Data Science Tools and Ecosystem are summarized.",
      "metadata": {}
    },
    {
      "cell_type": "markdown",
      "source": "## Exercise 4\n\nSome of the popular languages that Data Scientist use are:\n1. Python\n2. R\n3. Java\n4. My SQL\n5. C/C++",
      "metadata": {}
    },
    {
      "cell_type": "markdown",
      "source": "## Exercise 5\n\nSome of the commonly used libraries by Data Scientist include:\n 1. ggplot\n 2. matplotlib\n 3. numpy\n 4. pandas\n 5. plotly",
      "metadata": {}
    },
    {
      "cell_type": "markdown",
      "source": "## Exercise 6\n\n| Data Science Tool |\n| ----------------- |\n| Spark SQL           |\n| Node-RED|\n| Apache Kafka          |\n| Prediction IO            |    ",
      "metadata": {}
    },
    {
      "cell_type": "markdown",
      "source": "## Exercise 7\n\n### Below are a few examples of evaluating arithmetic expressions in Python",
      "metadata": {}
    },
    {
      "cell_type": "markdown",
      "source": "## Exercise 8",
      "metadata": {}
    },
    {
      "cell_type": "code",
      "source": "# This a simple arithmetic expression to mutiply then add integers\n\n(3*4)+5",
      "metadata": {
        "trusted": true
      },
      "outputs": [
        {
          "execution_count": 3,
          "output_type": "execute_result",
          "data": {
            "text/plain": "17"
          },
          "metadata": {}
        }
      ],
      "execution_count": 3
    },
    {
      "cell_type": "markdown",
      "source": "## Exercise 9",
      "metadata": {}
    },
    {
      "cell_type": "code",
      "source": "# This will convert 200 minutes to hours by deviding by 60\n\nt = 200/60\nprint( t, \"hours\")",
      "metadata": {
        "trusted": true
      },
      "outputs": [
        {
          "name": "stdout",
          "text": "3.3333333333333335 hours\n",
          "output_type": "stream"
        }
      ],
      "execution_count": 5
    },
    {
      "cell_type": "markdown",
      "source": "## Exercise 10\n\n**Objectives:**\n- Phyton\n- R\n- C/C++\n- Java\n- Julia\n- SQL",
      "metadata": {}
    },
    {
      "cell_type": "markdown",
      "source": "## Exercise 11\n\n## Author\nMuhammad Safwan Soaib",
      "metadata": {}
    },
    {
      "cell_type": "markdown",
      "source": "## Exercise 12\nShare notebook through github",
      "metadata": {}
    },
    {
      "cell_type": "markdown",
      "source": "## Exercise 13\nTake a screenshot of the first page of the notebook and save it as 1-notebook.png(Images can be saved with either the .jpg or .png extension.)",
      "metadata": {}
    },
    {
      "cell_type": "code",
      "source": "",
      "metadata": {
        "trusted": true
      },
      "outputs": [],
      "execution_count": null
    }
  ]
}